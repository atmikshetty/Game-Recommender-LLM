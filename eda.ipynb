{
 "cells": [
  {
   "cell_type": "markdown",
   "metadata": {},
   "source": [
    "## Exploratory Data Analysis on the dataset scraped\n",
    "\n",
    "1. Merging all four datasets\n",
    "2. Checking for null, duplicated values\n",
    "3. Visualisations to understand the correlation between the data\n",
    "4. Text Pre-processing"
   ]
  },
  {
   "cell_type": "markdown",
   "metadata": {},
   "source": [
    "### 1. Merging the datasets"
   ]
  },
  {
   "cell_type": "code",
   "execution_count": 3,
   "metadata": {},
   "outputs": [],
   "source": [
    "import pandas as pd\n",
    "\n",
    "# Reading all four csv datasets\n",
    "df1 = pd.read_csv('free_games.csv')\n",
    "df2 = pd.read_csv('grossing_games.csv')\n",
    "df3 = pd.read_csv('best_games.csv')\n",
    "df4 = pd.read_csv('paid_games.csv')"
   ]
  },
  {
   "cell_type": "code",
   "execution_count": 4,
   "metadata": {},
   "outputs": [],
   "source": [
    "# Merging the dataframes into one\n",
    "\n",
    "df = pd.concat([df1, df2, df3, df4], ignore_index = True)\n",
    "copy_df = df.copy()"
   ]
  },
  {
   "cell_type": "code",
   "execution_count": 5,
   "metadata": {},
   "outputs": [
    {
     "data": {
      "text/html": [
       "<div>\n",
       "<style scoped>\n",
       "    .dataframe tbody tr th:only-of-type {\n",
       "        vertical-align: middle;\n",
       "    }\n",
       "\n",
       "    .dataframe tbody tr th {\n",
       "        vertical-align: top;\n",
       "    }\n",
       "\n",
       "    .dataframe thead th {\n",
       "        text-align: right;\n",
       "    }\n",
       "</style>\n",
       "<table border=\"1\" class=\"dataframe\">\n",
       "  <thead>\n",
       "    <tr style=\"text-align: right;\">\n",
       "      <th></th>\n",
       "      <th>name</th>\n",
       "      <th>package_name</th>\n",
       "      <th>description</th>\n",
       "      <th>icon_url</th>\n",
       "      <th>genre</th>\n",
       "      <th>rating</th>\n",
       "      <th>ratings</th>\n",
       "    </tr>\n",
       "  </thead>\n",
       "  <tbody>\n",
       "    <tr>\n",
       "      <th>0</th>\n",
       "      <td>Call of Duty: Mobile Season 5</td>\n",
       "      <td>com.activision.callofduty.shooter</td>\n",
       "      <td>It's CALL OF DUTY® and more, like you never se...</td>\n",
       "      <td>https://play-lh.googleusercontent.com/zX7jmUbn...</td>\n",
       "      <td>Action</td>\n",
       "      <td>4.306470</td>\n",
       "      <td>100,000,000+</td>\n",
       "    </tr>\n",
       "    <tr>\n",
       "      <th>1</th>\n",
       "      <td>Roblox</td>\n",
       "      <td>com.roblox.client</td>\n",
       "      <td>Roblox is the ultimate virtual universe that l...</td>\n",
       "      <td>https://play-lh.googleusercontent.com/WNWZaxi9...</td>\n",
       "      <td>Adventure</td>\n",
       "      <td>4.436438</td>\n",
       "      <td>500,000,000+</td>\n",
       "    </tr>\n",
       "    <tr>\n",
       "      <th>2</th>\n",
       "      <td>Free Fire</td>\n",
       "      <td>com.dts.freefireth</td>\n",
       "      <td>[Mechadrake Incoming]\\r\\nThe fierce Mechadrake...</td>\n",
       "      <td>https://play-lh.googleusercontent.com/pGTbyodN...</td>\n",
       "      <td>Action</td>\n",
       "      <td>4.142490</td>\n",
       "      <td>1,000,000,000+</td>\n",
       "    </tr>\n",
       "    <tr>\n",
       "      <th>3</th>\n",
       "      <td>Clash of Clans</td>\n",
       "      <td>com.supercell.clashofclans</td>\n",
       "      <td>Join millions of players worldwide as you buil...</td>\n",
       "      <td>https://play-lh.googleusercontent.com/LByrur1m...</td>\n",
       "      <td>Strategy</td>\n",
       "      <td>4.530824</td>\n",
       "      <td>500,000,000+</td>\n",
       "    </tr>\n",
       "    <tr>\n",
       "      <th>4</th>\n",
       "      <td>Free Fire MAX</td>\n",
       "      <td>com.dts.freefiremax</td>\n",
       "      <td>[Mechadrake Incoming]\\r\\nThe fierce Mechadrake...</td>\n",
       "      <td>https://play-lh.googleusercontent.com/T8RuSQDF...</td>\n",
       "      <td>Action</td>\n",
       "      <td>4.176982</td>\n",
       "      <td>100,000,000+</td>\n",
       "    </tr>\n",
       "  </tbody>\n",
       "</table>\n",
       "</div>"
      ],
      "text/plain": [
       "                            name                       package_name  \\\n",
       "0  Call of Duty: Mobile Season 5  com.activision.callofduty.shooter   \n",
       "1                         Roblox                  com.roblox.client   \n",
       "2                      Free Fire                 com.dts.freefireth   \n",
       "3                 Clash of Clans         com.supercell.clashofclans   \n",
       "4                  Free Fire MAX                com.dts.freefiremax   \n",
       "\n",
       "                                         description  \\\n",
       "0  It's CALL OF DUTY® and more, like you never se...   \n",
       "1  Roblox is the ultimate virtual universe that l...   \n",
       "2  [Mechadrake Incoming]\\r\\nThe fierce Mechadrake...   \n",
       "3  Join millions of players worldwide as you buil...   \n",
       "4  [Mechadrake Incoming]\\r\\nThe fierce Mechadrake...   \n",
       "\n",
       "                                            icon_url      genre    rating  \\\n",
       "0  https://play-lh.googleusercontent.com/zX7jmUbn...     Action  4.306470   \n",
       "1  https://play-lh.googleusercontent.com/WNWZaxi9...  Adventure  4.436438   \n",
       "2  https://play-lh.googleusercontent.com/pGTbyodN...     Action  4.142490   \n",
       "3  https://play-lh.googleusercontent.com/LByrur1m...   Strategy  4.530824   \n",
       "4  https://play-lh.googleusercontent.com/T8RuSQDF...     Action  4.176982   \n",
       "\n",
       "          ratings  \n",
       "0    100,000,000+  \n",
       "1    500,000,000+  \n",
       "2  1,000,000,000+  \n",
       "3    500,000,000+  \n",
       "4    100,000,000+  "
      ]
     },
     "execution_count": 5,
     "metadata": {},
     "output_type": "execute_result"
    }
   ],
   "source": [
    "df.head()"
   ]
  },
  {
   "cell_type": "markdown",
   "metadata": {},
   "source": [
    "### 2. Checking for null and duplicated values"
   ]
  },
  {
   "cell_type": "code",
   "execution_count": 6,
   "metadata": {},
   "outputs": [
    {
     "name": "stdout",
     "output_type": "stream",
     "text": [
      "<class 'pandas.core.frame.DataFrame'>\n",
      "RangeIndex: 120 entries, 0 to 119\n",
      "Data columns (total 7 columns):\n",
      " #   Column        Non-Null Count  Dtype  \n",
      "---  ------        --------------  -----  \n",
      " 0   name          120 non-null    object \n",
      " 1   package_name  120 non-null    object \n",
      " 2   description   120 non-null    object \n",
      " 3   icon_url      120 non-null    object \n",
      " 4   genre         120 non-null    object \n",
      " 5   rating        120 non-null    float64\n",
      " 6   ratings       120 non-null    object \n",
      "dtypes: float64(1), object(6)\n",
      "memory usage: 6.7+ KB\n"
     ]
    }
   ],
   "source": [
    "# Cout and Data types of each column\n",
    "df.info()"
   ]
  },
  {
   "cell_type": "code",
   "execution_count": 7,
   "metadata": {},
   "outputs": [
    {
     "data": {
      "text/html": [
       "<div>\n",
       "<style scoped>\n",
       "    .dataframe tbody tr th:only-of-type {\n",
       "        vertical-align: middle;\n",
       "    }\n",
       "\n",
       "    .dataframe tbody tr th {\n",
       "        vertical-align: top;\n",
       "    }\n",
       "\n",
       "    .dataframe thead th {\n",
       "        text-align: right;\n",
       "    }\n",
       "</style>\n",
       "<table border=\"1\" class=\"dataframe\">\n",
       "  <thead>\n",
       "    <tr style=\"text-align: right;\">\n",
       "      <th></th>\n",
       "      <th>rating</th>\n",
       "    </tr>\n",
       "  </thead>\n",
       "  <tbody>\n",
       "    <tr>\n",
       "      <th>count</th>\n",
       "      <td>120.000000</td>\n",
       "    </tr>\n",
       "    <tr>\n",
       "      <th>mean</th>\n",
       "      <td>4.388758</td>\n",
       "    </tr>\n",
       "    <tr>\n",
       "      <th>std</th>\n",
       "      <td>0.360555</td>\n",
       "    </tr>\n",
       "    <tr>\n",
       "      <th>min</th>\n",
       "      <td>2.273083</td>\n",
       "    </tr>\n",
       "    <tr>\n",
       "      <th>25%</th>\n",
       "      <td>4.296898</td>\n",
       "    </tr>\n",
       "    <tr>\n",
       "      <th>50%</th>\n",
       "      <td>4.469230</td>\n",
       "    </tr>\n",
       "    <tr>\n",
       "      <th>75%</th>\n",
       "      <td>4.583960</td>\n",
       "    </tr>\n",
       "    <tr>\n",
       "      <th>max</th>\n",
       "      <td>4.925695</td>\n",
       "    </tr>\n",
       "  </tbody>\n",
       "</table>\n",
       "</div>"
      ],
      "text/plain": [
       "           rating\n",
       "count  120.000000\n",
       "mean     4.388758\n",
       "std      0.360555\n",
       "min      2.273083\n",
       "25%      4.296898\n",
       "50%      4.469230\n",
       "75%      4.583960\n",
       "max      4.925695"
      ]
     },
     "execution_count": 7,
     "metadata": {},
     "output_type": "execute_result"
    }
   ],
   "source": [
    "# Statistics of numerical columns\n",
    "df.describe()"
   ]
  },
  {
   "cell_type": "code",
   "execution_count": 8,
   "metadata": {},
   "outputs": [
    {
     "data": {
      "text/plain": [
       "name            0\n",
       "package_name    0\n",
       "description     0\n",
       "icon_url        0\n",
       "genre           0\n",
       "rating          0\n",
       "ratings         0\n",
       "dtype: int64"
      ]
     },
     "execution_count": 8,
     "metadata": {},
     "output_type": "execute_result"
    }
   ],
   "source": [
    "# Checking if null values are present in the dataset\n",
    "df.isna().sum()"
   ]
  },
  {
   "cell_type": "code",
   "execution_count": 10,
   "metadata": {},
   "outputs": [
    {
     "data": {
      "text/plain": [
       "24"
      ]
     },
     "execution_count": 10,
     "metadata": {},
     "output_type": "execute_result"
    }
   ],
   "source": [
    "# Checking if duplicated values are present in the dataset\n",
    "df.duplicated().sum()"
   ]
  },
  {
   "cell_type": "code",
   "execution_count": 14,
   "metadata": {},
   "outputs": [
    {
     "data": {
      "text/html": [
       "<div>\n",
       "<style scoped>\n",
       "    .dataframe tbody tr th:only-of-type {\n",
       "        vertical-align: middle;\n",
       "    }\n",
       "\n",
       "    .dataframe tbody tr th {\n",
       "        vertical-align: top;\n",
       "    }\n",
       "\n",
       "    .dataframe thead th {\n",
       "        text-align: right;\n",
       "    }\n",
       "</style>\n",
       "<table border=\"1\" class=\"dataframe\">\n",
       "  <thead>\n",
       "    <tr style=\"text-align: right;\">\n",
       "      <th></th>\n",
       "      <th>name</th>\n",
       "      <th>package_name</th>\n",
       "      <th>description</th>\n",
       "      <th>icon_url</th>\n",
       "      <th>genre</th>\n",
       "      <th>rating</th>\n",
       "      <th>ratings</th>\n",
       "    </tr>\n",
       "  </thead>\n",
       "  <tbody>\n",
       "    <tr>\n",
       "      <th>30</th>\n",
       "      <td>Pokémon GO</td>\n",
       "      <td>com.nianticlabs.pokemongo</td>\n",
       "      <td>New! Now you can battle other Pokémon GO Train...</td>\n",
       "      <td>https://play-lh.googleusercontent.com/6qUR3CmT...</td>\n",
       "      <td>Adventure</td>\n",
       "      <td>3.988406</td>\n",
       "      <td>100,000,000+</td>\n",
       "    </tr>\n",
       "    <tr>\n",
       "      <th>37</th>\n",
       "      <td>MONOPOLY GO!</td>\n",
       "      <td>com.scopely.monopolygo</td>\n",
       "      <td>Hit GO! Roll the dice! Earn MONOPOLY money, in...</td>\n",
       "      <td>https://play-lh.googleusercontent.com/DfYkSl-n...</td>\n",
       "      <td>Board</td>\n",
       "      <td>4.464840</td>\n",
       "      <td>50,000,000+</td>\n",
       "    </tr>\n",
       "    <tr>\n",
       "      <th>38</th>\n",
       "      <td>Mario Kart Tour</td>\n",
       "      <td>com.nintendo.zaka</td>\n",
       "      <td>■Challenge players worldwide in multiplayer!\\r...</td>\n",
       "      <td>https://play-lh.googleusercontent.com/Nhdcc77M...</td>\n",
       "      <td>Action</td>\n",
       "      <td>4.306480</td>\n",
       "      <td>100,000,000+</td>\n",
       "    </tr>\n",
       "    <tr>\n",
       "      <th>39</th>\n",
       "      <td>Roblox</td>\n",
       "      <td>com.roblox.client</td>\n",
       "      <td>Roblox is the ultimate virtual universe that l...</td>\n",
       "      <td>https://play-lh.googleusercontent.com/WNWZaxi9...</td>\n",
       "      <td>Adventure</td>\n",
       "      <td>4.436438</td>\n",
       "      <td>500,000,000+</td>\n",
       "    </tr>\n",
       "    <tr>\n",
       "      <th>42</th>\n",
       "      <td>Hungry Shark Evolution</td>\n",
       "      <td>com.fgol.HungrySharkEvolution</td>\n",
       "      <td>The Official game for &lt;b&gt;Shark Week&lt;/b&gt; - Welc...</td>\n",
       "      <td>https://play-lh.googleusercontent.com/6Ij3BrGO...</td>\n",
       "      <td>Arcade</td>\n",
       "      <td>4.469230</td>\n",
       "      <td>500,000,000+</td>\n",
       "    </tr>\n",
       "    <tr>\n",
       "      <th>45</th>\n",
       "      <td>Clash of Clans</td>\n",
       "      <td>com.supercell.clashofclans</td>\n",
       "      <td>Join millions of players worldwide as you buil...</td>\n",
       "      <td>https://play-lh.googleusercontent.com/LByrur1m...</td>\n",
       "      <td>Strategy</td>\n",
       "      <td>4.530824</td>\n",
       "      <td>500,000,000+</td>\n",
       "    </tr>\n",
       "    <tr>\n",
       "      <th>46</th>\n",
       "      <td>8 Ball Pool</td>\n",
       "      <td>com.miniclip.eightballpool</td>\n",
       "      <td>Do you want to play in the world of pool games...</td>\n",
       "      <td>https://play-lh.googleusercontent.com/bPz1guJ6...</td>\n",
       "      <td>Sports</td>\n",
       "      <td>4.542642</td>\n",
       "      <td>1,000,000,000+</td>\n",
       "    </tr>\n",
       "    <tr>\n",
       "      <th>52</th>\n",
       "      <td>Subway Surfers</td>\n",
       "      <td>com.kiloo.subwaysurf</td>\n",
       "      <td>DASH as fast as you can! \\r\\nDODGE the oncomin...</td>\n",
       "      <td>https://play-lh.googleusercontent.com/ykHUp1lJ...</td>\n",
       "      <td>Arcade</td>\n",
       "      <td>4.580597</td>\n",
       "      <td>1,000,000,000+</td>\n",
       "    </tr>\n",
       "    <tr>\n",
       "      <th>54</th>\n",
       "      <td>Plants vs. Zombies™</td>\n",
       "      <td>com.ea.game.pvzfree_row</td>\n",
       "      <td>Get ready to soil your plants as a mob of fun-...</td>\n",
       "      <td>https://play-lh.googleusercontent.com/hO7716hh...</td>\n",
       "      <td>Strategy</td>\n",
       "      <td>4.177529</td>\n",
       "      <td>500,000,000+</td>\n",
       "    </tr>\n",
       "    <tr>\n",
       "      <th>57</th>\n",
       "      <td>Call of Duty: Mobile Season 5</td>\n",
       "      <td>com.activision.callofduty.shooter</td>\n",
       "      <td>It's CALL OF DUTY® and more, like you never se...</td>\n",
       "      <td>https://play-lh.googleusercontent.com/zX7jmUbn...</td>\n",
       "      <td>Action</td>\n",
       "      <td>4.306470</td>\n",
       "      <td>100,000,000+</td>\n",
       "    </tr>\n",
       "    <tr>\n",
       "      <th>58</th>\n",
       "      <td>Candy Crush Saga</td>\n",
       "      <td>com.king.candycrushsaga</td>\n",
       "      <td>Master the legendary match 3 puzzle game from ...</td>\n",
       "      <td>https://play-lh.googleusercontent.com/TLUeelx8...</td>\n",
       "      <td>Casual</td>\n",
       "      <td>4.598434</td>\n",
       "      <td>1,000,000,000+</td>\n",
       "    </tr>\n",
       "    <tr>\n",
       "      <th>67</th>\n",
       "      <td>8 Ball Pool</td>\n",
       "      <td>com.miniclip.eightballpool</td>\n",
       "      <td>Do you want to play in the world of pool games...</td>\n",
       "      <td>https://play-lh.googleusercontent.com/bPz1guJ6...</td>\n",
       "      <td>Sports</td>\n",
       "      <td>4.542642</td>\n",
       "      <td>1,000,000,000+</td>\n",
       "    </tr>\n",
       "    <tr>\n",
       "      <th>69</th>\n",
       "      <td>Cover Fire: Offline Shooting</td>\n",
       "      <td>com.generagames.resistance</td>\n",
       "      <td>Download Official Cover Fire, is one of the be...</td>\n",
       "      <td>https://play-lh.googleusercontent.com/905_YD-6...</td>\n",
       "      <td>Action</td>\n",
       "      <td>4.623758</td>\n",
       "      <td>100,000,000+</td>\n",
       "    </tr>\n",
       "    <tr>\n",
       "      <th>70</th>\n",
       "      <td>Among Us</td>\n",
       "      <td>com.innersloth.spacemafia</td>\n",
       "      <td>Play online or over local WiFi with 4-15 playe...</td>\n",
       "      <td>https://play-lh.googleusercontent.com/8ddL1kuo...</td>\n",
       "      <td>Action</td>\n",
       "      <td>3.843329</td>\n",
       "      <td>500,000,000+</td>\n",
       "    </tr>\n",
       "    <tr>\n",
       "      <th>72</th>\n",
       "      <td>Roblox</td>\n",
       "      <td>com.roblox.client</td>\n",
       "      <td>Roblox is the ultimate virtual universe that l...</td>\n",
       "      <td>https://play-lh.googleusercontent.com/WNWZaxi9...</td>\n",
       "      <td>Adventure</td>\n",
       "      <td>4.436438</td>\n",
       "      <td>500,000,000+</td>\n",
       "    </tr>\n",
       "    <tr>\n",
       "      <th>73</th>\n",
       "      <td>Plants vs. Zombies™</td>\n",
       "      <td>com.ea.game.pvzfree_row</td>\n",
       "      <td>Get ready to soil your plants as a mob of fun-...</td>\n",
       "      <td>https://play-lh.googleusercontent.com/hO7716hh...</td>\n",
       "      <td>Strategy</td>\n",
       "      <td>4.177529</td>\n",
       "      <td>500,000,000+</td>\n",
       "    </tr>\n",
       "    <tr>\n",
       "      <th>77</th>\n",
       "      <td>Asphalt 8 - Car Racing Game</td>\n",
       "      <td>com.gameloft.android.ANMP.GloftA8HM</td>\n",
       "      <td>Part of Gameloft’s Asphalt franchise, Asphalt ...</td>\n",
       "      <td>https://play-lh.googleusercontent.com/y1J3-Orq...</td>\n",
       "      <td>Racing</td>\n",
       "      <td>4.524383</td>\n",
       "      <td>100,000,000+</td>\n",
       "    </tr>\n",
       "    <tr>\n",
       "      <th>80</th>\n",
       "      <td>Asphalt 9: Legends</td>\n",
       "      <td>com.gameloft.android.ANMP.GloftA9HM</td>\n",
       "      <td>In Asphalt 9: Legends, take the wheel of real ...</td>\n",
       "      <td>https://play-lh.googleusercontent.com/c15fVxqu...</td>\n",
       "      <td>Racing</td>\n",
       "      <td>4.462082</td>\n",
       "      <td>100,000,000+</td>\n",
       "    </tr>\n",
       "    <tr>\n",
       "      <th>82</th>\n",
       "      <td>MONOPOLY GO!</td>\n",
       "      <td>com.scopely.monopolygo</td>\n",
       "      <td>Hit GO! Roll the dice! Earn MONOPOLY money, in...</td>\n",
       "      <td>https://play-lh.googleusercontent.com/DfYkSl-n...</td>\n",
       "      <td>Board</td>\n",
       "      <td>4.464840</td>\n",
       "      <td>50,000,000+</td>\n",
       "    </tr>\n",
       "    <tr>\n",
       "      <th>83</th>\n",
       "      <td>Mortal Kombat</td>\n",
       "      <td>com.wb.goog.mkx</td>\n",
       "      <td>Get over here and immerse yourself in the icon...</td>\n",
       "      <td>https://play-lh.googleusercontent.com/FHyo-8Ou...</td>\n",
       "      <td>Action</td>\n",
       "      <td>4.203332</td>\n",
       "      <td>100,000,000+</td>\n",
       "    </tr>\n",
       "    <tr>\n",
       "      <th>85</th>\n",
       "      <td>Subway Surfers</td>\n",
       "      <td>com.kiloo.subwaysurf</td>\n",
       "      <td>DASH as fast as you can! \\r\\nDODGE the oncomin...</td>\n",
       "      <td>https://play-lh.googleusercontent.com/ykHUp1lJ...</td>\n",
       "      <td>Arcade</td>\n",
       "      <td>4.580597</td>\n",
       "      <td>1,000,000,000+</td>\n",
       "    </tr>\n",
       "    <tr>\n",
       "      <th>88</th>\n",
       "      <td>Mario Kart Tour</td>\n",
       "      <td>com.nintendo.zaka</td>\n",
       "      <td>■Challenge players worldwide in multiplayer!\\r...</td>\n",
       "      <td>https://play-lh.googleusercontent.com/Nhdcc77M...</td>\n",
       "      <td>Action</td>\n",
       "      <td>4.306480</td>\n",
       "      <td>100,000,000+</td>\n",
       "    </tr>\n",
       "    <tr>\n",
       "      <th>99</th>\n",
       "      <td>Minecraft</td>\n",
       "      <td>com.mojang.minecraftpe</td>\n",
       "      <td>Minecraft is a game made from blocks that you ...</td>\n",
       "      <td>https://play-lh.googleusercontent.com/VSwHQjcA...</td>\n",
       "      <td>Arcade</td>\n",
       "      <td>4.465446</td>\n",
       "      <td>50,000,000+</td>\n",
       "    </tr>\n",
       "    <tr>\n",
       "      <th>105</th>\n",
       "      <td>Google Play Games</td>\n",
       "      <td>com.google.android.play.games</td>\n",
       "      <td>Games are more fun with the Google Play Games ...</td>\n",
       "      <td>https://play-lh.googleusercontent.com/wpRQkfqb...</td>\n",
       "      <td>Entertainment</td>\n",
       "      <td>4.245615</td>\n",
       "      <td>5,000,000,000+</td>\n",
       "    </tr>\n",
       "  </tbody>\n",
       "</table>\n",
       "</div>"
      ],
      "text/plain": [
       "                              name                         package_name  \\\n",
       "30                      Pokémon GO            com.nianticlabs.pokemongo   \n",
       "37                    MONOPOLY GO!               com.scopely.monopolygo   \n",
       "38                 Mario Kart Tour                    com.nintendo.zaka   \n",
       "39                          Roblox                    com.roblox.client   \n",
       "42          Hungry Shark Evolution        com.fgol.HungrySharkEvolution   \n",
       "45                  Clash of Clans           com.supercell.clashofclans   \n",
       "46                     8 Ball Pool           com.miniclip.eightballpool   \n",
       "52                  Subway Surfers                 com.kiloo.subwaysurf   \n",
       "54             Plants vs. Zombies™              com.ea.game.pvzfree_row   \n",
       "57   Call of Duty: Mobile Season 5    com.activision.callofduty.shooter   \n",
       "58                Candy Crush Saga              com.king.candycrushsaga   \n",
       "67                     8 Ball Pool           com.miniclip.eightballpool   \n",
       "69    Cover Fire: Offline Shooting           com.generagames.resistance   \n",
       "70                        Among Us            com.innersloth.spacemafia   \n",
       "72                          Roblox                    com.roblox.client   \n",
       "73             Plants vs. Zombies™              com.ea.game.pvzfree_row   \n",
       "77     Asphalt 8 - Car Racing Game  com.gameloft.android.ANMP.GloftA8HM   \n",
       "80              Asphalt 9: Legends  com.gameloft.android.ANMP.GloftA9HM   \n",
       "82                    MONOPOLY GO!               com.scopely.monopolygo   \n",
       "83                   Mortal Kombat                      com.wb.goog.mkx   \n",
       "85                  Subway Surfers                 com.kiloo.subwaysurf   \n",
       "88                 Mario Kart Tour                    com.nintendo.zaka   \n",
       "99                       Minecraft               com.mojang.minecraftpe   \n",
       "105              Google Play Games        com.google.android.play.games   \n",
       "\n",
       "                                           description  \\\n",
       "30   New! Now you can battle other Pokémon GO Train...   \n",
       "37   Hit GO! Roll the dice! Earn MONOPOLY money, in...   \n",
       "38   ■Challenge players worldwide in multiplayer!\\r...   \n",
       "39   Roblox is the ultimate virtual universe that l...   \n",
       "42   The Official game for <b>Shark Week</b> - Welc...   \n",
       "45   Join millions of players worldwide as you buil...   \n",
       "46   Do you want to play in the world of pool games...   \n",
       "52   DASH as fast as you can! \\r\\nDODGE the oncomin...   \n",
       "54   Get ready to soil your plants as a mob of fun-...   \n",
       "57   It's CALL OF DUTY® and more, like you never se...   \n",
       "58   Master the legendary match 3 puzzle game from ...   \n",
       "67   Do you want to play in the world of pool games...   \n",
       "69   Download Official Cover Fire, is one of the be...   \n",
       "70   Play online or over local WiFi with 4-15 playe...   \n",
       "72   Roblox is the ultimate virtual universe that l...   \n",
       "73   Get ready to soil your plants as a mob of fun-...   \n",
       "77   Part of Gameloft’s Asphalt franchise, Asphalt ...   \n",
       "80   In Asphalt 9: Legends, take the wheel of real ...   \n",
       "82   Hit GO! Roll the dice! Earn MONOPOLY money, in...   \n",
       "83   Get over here and immerse yourself in the icon...   \n",
       "85   DASH as fast as you can! \\r\\nDODGE the oncomin...   \n",
       "88   ■Challenge players worldwide in multiplayer!\\r...   \n",
       "99   Minecraft is a game made from blocks that you ...   \n",
       "105  Games are more fun with the Google Play Games ...   \n",
       "\n",
       "                                              icon_url          genre  \\\n",
       "30   https://play-lh.googleusercontent.com/6qUR3CmT...      Adventure   \n",
       "37   https://play-lh.googleusercontent.com/DfYkSl-n...          Board   \n",
       "38   https://play-lh.googleusercontent.com/Nhdcc77M...         Action   \n",
       "39   https://play-lh.googleusercontent.com/WNWZaxi9...      Adventure   \n",
       "42   https://play-lh.googleusercontent.com/6Ij3BrGO...         Arcade   \n",
       "45   https://play-lh.googleusercontent.com/LByrur1m...       Strategy   \n",
       "46   https://play-lh.googleusercontent.com/bPz1guJ6...         Sports   \n",
       "52   https://play-lh.googleusercontent.com/ykHUp1lJ...         Arcade   \n",
       "54   https://play-lh.googleusercontent.com/hO7716hh...       Strategy   \n",
       "57   https://play-lh.googleusercontent.com/zX7jmUbn...         Action   \n",
       "58   https://play-lh.googleusercontent.com/TLUeelx8...         Casual   \n",
       "67   https://play-lh.googleusercontent.com/bPz1guJ6...         Sports   \n",
       "69   https://play-lh.googleusercontent.com/905_YD-6...         Action   \n",
       "70   https://play-lh.googleusercontent.com/8ddL1kuo...         Action   \n",
       "72   https://play-lh.googleusercontent.com/WNWZaxi9...      Adventure   \n",
       "73   https://play-lh.googleusercontent.com/hO7716hh...       Strategy   \n",
       "77   https://play-lh.googleusercontent.com/y1J3-Orq...         Racing   \n",
       "80   https://play-lh.googleusercontent.com/c15fVxqu...         Racing   \n",
       "82   https://play-lh.googleusercontent.com/DfYkSl-n...          Board   \n",
       "83   https://play-lh.googleusercontent.com/FHyo-8Ou...         Action   \n",
       "85   https://play-lh.googleusercontent.com/ykHUp1lJ...         Arcade   \n",
       "88   https://play-lh.googleusercontent.com/Nhdcc77M...         Action   \n",
       "99   https://play-lh.googleusercontent.com/VSwHQjcA...         Arcade   \n",
       "105  https://play-lh.googleusercontent.com/wpRQkfqb...  Entertainment   \n",
       "\n",
       "       rating         ratings  \n",
       "30   3.988406    100,000,000+  \n",
       "37   4.464840     50,000,000+  \n",
       "38   4.306480    100,000,000+  \n",
       "39   4.436438    500,000,000+  \n",
       "42   4.469230    500,000,000+  \n",
       "45   4.530824    500,000,000+  \n",
       "46   4.542642  1,000,000,000+  \n",
       "52   4.580597  1,000,000,000+  \n",
       "54   4.177529    500,000,000+  \n",
       "57   4.306470    100,000,000+  \n",
       "58   4.598434  1,000,000,000+  \n",
       "67   4.542642  1,000,000,000+  \n",
       "69   4.623758    100,000,000+  \n",
       "70   3.843329    500,000,000+  \n",
       "72   4.436438    500,000,000+  \n",
       "73   4.177529    500,000,000+  \n",
       "77   4.524383    100,000,000+  \n",
       "80   4.462082    100,000,000+  \n",
       "82   4.464840     50,000,000+  \n",
       "83   4.203332    100,000,000+  \n",
       "85   4.580597  1,000,000,000+  \n",
       "88   4.306480    100,000,000+  \n",
       "99   4.465446     50,000,000+  \n",
       "105  4.245615  5,000,000,000+  "
      ]
     },
     "execution_count": 14,
     "metadata": {},
     "output_type": "execute_result"
    }
   ],
   "source": [
    "# Filtering out the duplicated rows. Duplication is present due to genres and some words \n",
    "# matching in the descriptions hence it's fine to keep the duplicated values\n",
    "df[df.duplicated()]"
   ]
  },
  {
   "cell_type": "code",
   "execution_count": 11,
   "metadata": {},
   "outputs": [
    {
     "data": {
      "text/plain": [
       "Index(['name', 'package_name', 'description', 'icon_url', 'genre', 'rating',\n",
       "       'ratings'],\n",
       "      dtype='object')"
      ]
     },
     "execution_count": 11,
     "metadata": {},
     "output_type": "execute_result"
    }
   ],
   "source": [
    "df.columns"
   ]
  },
  {
   "cell_type": "markdown",
   "metadata": {},
   "source": [
    "### 3. Visualization of data"
   ]
  },
  {
   "cell_type": "code",
   "execution_count": 26,
   "metadata": {},
   "outputs": [
    {
     "name": "stderr",
     "output_type": "stream",
     "text": [
      "C:\\Users\\atmik shetty\\AppData\\Local\\Temp\\ipykernel_6720\\2783664093.py:9: FutureWarning: \n",
      "\n",
      "Passing `palette` without assigning `hue` is deprecated and will be removed in v0.14.0. Assign the `y` variable to `hue` and set `legend=False` for the same effect.\n",
      "\n",
      "  sns.barplot(x='rating', y='name', data=top_10, palette='rocket')\n"
     ]
    },
    {
     "data": {
      "image/png": "[encoded data removed]",
      "text/plain": [
       "<Figure size 1000x600 with 1 Axes>"
      ]
     },
     "metadata": {},
     "output_type": "display_data"
    },
    {
     "data": {
      "text/plain": [
       "'\\nFrom the above visualization we notice that the Adventure, RPG and Action games are highly rated\\n'"
      ]
     },
     "execution_count": 26,
     "metadata": {},
     "output_type": "execute_result"
    }
   ],
   "source": [
    "import matplotlib.pyplot as plt\n",
    "import seaborn as sns\n",
    "\n",
    "# Checking the Top 10 rated games on Play Store\n",
    "df_sorted = df.sort_values(by='ratings', ascending=True)\n",
    "top_10 = df_sorted.head(10)\n",
    "\n",
    "plt.figure(figsize=(10,6))\n",
    "sns.barplot(x='rating', y='name', data=top_10, palette='rocket')\n",
    "plt.title(\"Games with the highest ratings!\")\n",
    "plt.xlabel('User Ratings')\n",
    "plt.ylabel('Name')\n",
    "plt.show()\n",
    "\n",
    "\"\"\"\n",
    "From the above visualization we notice that the Adventure, RPG and Action games are highly rated\n",
    "\"\"\""
   ]
  },
  {
   "cell_type": "code",
   "execution_count": 25,
   "metadata": {},
   "outputs": [
    {
     "name": "stderr",
     "output_type": "stream",
     "text": [
      "C:\\Users\\atmik shetty\\AppData\\Local\\Temp\\ipykernel_6720\\2897068040.py:4: FutureWarning: \n",
      "\n",
      "Passing `palette` without assigning `hue` is deprecated and will be removed in v0.14.0. Assign the `y` variable to `hue` and set `legend=False` for the same effect.\n",
      "\n",
      "  sns.countplot(y='genre', data=df, palette='mako', order=df['genre'].value_counts().index)\n"
     ]
    },
    {
     "data": {
      "image/png": "[encoded data removed]",
      "text/plain": [
       "<Figure size 1000x600 with 1 Axes>"
      ]
     },
     "metadata": {},
     "output_type": "display_data"
    },
    {
     "data": {
      "text/plain": [
       "'\\nFrom the above plot we can notice that, the action games are present a lot in the datasets meaning in the grossing as well as other\\ndatasets the action games are highly rated.\\n'"
      ]
     },
     "execution_count": 25,
     "metadata": {},
     "output_type": "execute_result"
    }
   ],
   "source": [
    "# Checking the Amount of games in each visualization\n",
    "\n",
    "plt.figure(figsize=(10,6))\n",
    "sns.countplot(y='genre', data=df, palette='mako', order=df['genre'].value_counts().index)\n",
    "plt.title(\"No of games in each genre\")\n",
    "plt.xlabel(\"No of games\")\n",
    "plt.ylabel(\"Genre\")\n",
    "plt.show()\n",
    "\n",
    "\"\"\"\n",
    "From the above plot we can notice that, the action games are present a lot in the datasets meaning in the grossing as well as other\n",
    "datasets the action games are highly rated.\n",
    "\"\"\""
   ]
  },
  {
   "cell_type": "markdown",
   "metadata": {},
   "source": [
    "### 4. Text Pre-processing"
   ]
  },
  {
   "cell_type": "code",
   "execution_count": 29,
   "metadata": {},
   "outputs": [],
   "source": [
    "# using the Natural Language Toolkit for Text Preprocessing\n",
    "import nltk\n",
    "from nltk.tokenize import word_tokenize\n",
    "from nltk.corpus import stopwords\n",
    "from nltk.stem import WordNetLemmatizer"
   ]
  },
  {
   "cell_type": "code",
   "execution_count": 31,
   "metadata": {},
   "outputs": [
    {
     "name": "stderr",
     "output_type": "stream",
     "text": [
      "[nltk_data] Downloading package punkt to C:\\Users\\atmik\n",
      "[nltk_data]     shetty\\AppData\\Roaming\\nltk_data...\n",
      "[nltk_data]   Package punkt is already up-to-date!\n",
      "[nltk_data] Downloading package stopwords to C:\\Users\\atmik\n",
      "[nltk_data]     shetty\\AppData\\Roaming\\nltk_data...\n",
      "[nltk_data]   Package stopwords is already up-to-date!\n",
      "[nltk_data] Downloading package wordnet to C:\\Users\\atmik\n",
      "[nltk_data]     shetty\\AppData\\Roaming\\nltk_data...\n",
      "[nltk_data]   Package wordnet is already up-to-date!\n"
     ]
    },
    {
     "data": {
      "text/plain": [
       "True"
      ]
     },
     "execution_count": 31,
     "metadata": {},
     "output_type": "execute_result"
    }
   ],
   "source": [
    "# Used for lemmatization and stopwords\n",
    "nltk.download('punkt')\n",
    "nltk.download('stopwords')\n",
    "nltk.download('wordnet')"
   ]
  },
  {
   "cell_type": "code",
   "execution_count": 34,
   "metadata": {},
   "outputs": [
    {
     "data": {
      "text/html": [
       "<div>\n",
       "<style scoped>\n",
       "    .dataframe tbody tr th:only-of-type {\n",
       "        vertical-align: middle;\n",
       "    }\n",
       "\n",
       "    .dataframe tbody tr th {\n",
       "        vertical-align: top;\n",
       "    }\n",
       "\n",
       "    .dataframe thead th {\n",
       "        text-align: right;\n",
       "    }\n",
       "</style>\n",
       "<table border=\"1\" class=\"dataframe\">\n",
       "  <thead>\n",
       "    <tr style=\"text-align: right;\">\n",
       "      <th></th>\n",
       "      <th>name</th>\n",
       "      <th>package_name</th>\n",
       "      <th>description</th>\n",
       "      <th>icon_url</th>\n",
       "      <th>genre</th>\n",
       "      <th>rating</th>\n",
       "      <th>ratings</th>\n",
       "    </tr>\n",
       "  </thead>\n",
       "  <tbody>\n",
       "    <tr>\n",
       "      <th>0</th>\n",
       "      <td>Call of Duty: Mobile Season 5</td>\n",
       "      <td>com.activision.callofduty.shooter</td>\n",
       "      <td>It's CALL OF DUTY® and more, like you never se...</td>\n",
       "      <td>https://play-lh.googleusercontent.com/zX7jmUbn...</td>\n",
       "      <td>Action</td>\n",
       "      <td>4.306470</td>\n",
       "      <td>100000000.0</td>\n",
       "    </tr>\n",
       "    <tr>\n",
       "      <th>1</th>\n",
       "      <td>Roblox</td>\n",
       "      <td>com.roblox.client</td>\n",
       "      <td>Roblox is the ultimate virtual universe that l...</td>\n",
       "      <td>https://play-lh.googleusercontent.com/WNWZaxi9...</td>\n",
       "      <td>Adventure</td>\n",
       "      <td>4.436438</td>\n",
       "      <td>500000000.0</td>\n",
       "    </tr>\n",
       "  </tbody>\n",
       "</table>\n",
       "</div>"
      ],
      "text/plain": [
       "                            name                       package_name  \\\n",
       "0  Call of Duty: Mobile Season 5  com.activision.callofduty.shooter   \n",
       "1                         Roblox                  com.roblox.client   \n",
       "\n",
       "                                         description  \\\n",
       "0  It's CALL OF DUTY® and more, like you never se...   \n",
       "1  Roblox is the ultimate virtual universe that l...   \n",
       "\n",
       "                                            icon_url      genre    rating  \\\n",
       "0  https://play-lh.googleusercontent.com/zX7jmUbn...     Action  4.306470   \n",
       "1  https://play-lh.googleusercontent.com/WNWZaxi9...  Adventure  4.436438   \n",
       "\n",
       "       ratings  \n",
       "0  100000000.0  \n",
       "1  500000000.0  "
      ]
     },
     "execution_count": 34,
     "metadata": {},
     "output_type": "execute_result"
    }
   ],
   "source": [
    "# Fixing the ratings columns since it has a '+' special character which might cause issues\n",
    "\n",
    "df['ratings'] = df['ratings'].str.replace(r'[^\\d.]', '', regex=True).astype(float)\n",
    "df.head(2)"
   ]
  },
  {
   "cell_type": "code",
   "execution_count": 36,
   "metadata": {},
   "outputs": [],
   "source": [
    "# Initializing the lemmatizer and stop_words variables\n",
    "\n",
    "lemmatizer = WordNetLemmatizer()\n",
    "stop_words = set(stopwords.words('english'))"
   ]
  },
  {
   "cell_type": "code",
   "execution_count": 37,
   "metadata": {},
   "outputs": [],
   "source": [
    "# A function to pre-process text from the descripton column since it is useful context for Large Langauge Models\n",
    "\n",
    "def text_preprocess(text):\n",
    "\n",
    "    # Tokenization using Word Tokenizer\n",
    "    tokens = word_tokenize(text)\n",
    "\n",
    "    # Removing stop words and uneccessary words\n",
    "    useful_tokens = [word.lower() for word in tokens if word.lower() not in stop_words and len(word) > 1]\n",
    "\n",
    "    # Performing Text Lemmatization\n",
    "    lemma_tokens = [lemmatizer.lemmatize(word) for word in useful_tokens]\n",
    "\n",
    "    return \" \".join(lemma_tokens)"
   ]
  },
  {
   "cell_type": "code",
   "execution_count": 38,
   "metadata": {},
   "outputs": [],
   "source": [
    "# Applying the text preprocessing function on the description column\n",
    "\n",
    "df[\"desc\"] = df['description'].apply(text_preprocess)"
   ]
  },
  {
   "cell_type": "code",
   "execution_count": 42,
   "metadata": {},
   "outputs": [
    {
     "data": {
      "text/plain": [
       "0      's call duty® like never seen famous fps multi...\n",
       "1      roblox ultimate virtual universe let create sh...\n",
       "2      mechadrake incoming fierce mechadrake invaded ...\n",
       "3      join million player worldwide build village ra...\n",
       "4      mechadrake incoming fierce mechadrake invaded ...\n",
       "                             ...                        \n",
       "115    form team battle victory capture train evolve ...\n",
       "116    warned game tutorial part challenge figuring p...\n",
       "117    enter room old sin transported place tactile e...\n",
       "118    join mistplay free get reward go beyond game /...\n",
       "119    eternium beautifully crafted action rpg remini...\n",
       "Name: desc, Length: 120, dtype: object"
      ]
     },
     "execution_count": 42,
     "metadata": {},
     "output_type": "execute_result"
    }
   ],
   "source": [
    "# Text preprocessing has been successfully performed\n",
    "df['desc']"
   ]
  },
  {
   "cell_type": "code",
   "execution_count": 46,
   "metadata": {},
   "outputs": [],
   "source": [
    "# We do not need our original description column now, hence we drop it\n",
    "df.drop('description', axis=1, inplace=True)"
   ]
  },
  {
   "cell_type": "code",
   "execution_count": 47,
   "metadata": {},
   "outputs": [
    {
     "data": {
      "text/html": [
       "<div>\n",
       "<style scoped>\n",
       "    .dataframe tbody tr th:only-of-type {\n",
       "        vertical-align: middle;\n",
       "    }\n",
       "\n",
       "    .dataframe tbody tr th {\n",
       "        vertical-align: top;\n",
       "    }\n",
       "\n",
       "    .dataframe thead th {\n",
       "        text-align: right;\n",
       "    }\n",
       "</style>\n",
       "<table border=\"1\" class=\"dataframe\">\n",
       "  <thead>\n",
       "    <tr style=\"text-align: right;\">\n",
       "      <th></th>\n",
       "      <th>name</th>\n",
       "      <th>package_name</th>\n",
       "      <th>icon_url</th>\n",
       "      <th>genre</th>\n",
       "      <th>rating</th>\n",
       "      <th>ratings</th>\n",
       "      <th>desc</th>\n",
       "    </tr>\n",
       "  </thead>\n",
       "  <tbody>\n",
       "    <tr>\n",
       "      <th>0</th>\n",
       "      <td>Call of Duty: Mobile Season 5</td>\n",
       "      <td>com.activision.callofduty.shooter</td>\n",
       "      <td>https://play-lh.googleusercontent.com/zX7jmUbn...</td>\n",
       "      <td>Action</td>\n",
       "      <td>4.306470</td>\n",
       "      <td>100000000.0</td>\n",
       "      <td>'s call duty® like never seen famous fps multi...</td>\n",
       "    </tr>\n",
       "    <tr>\n",
       "      <th>1</th>\n",
       "      <td>Roblox</td>\n",
       "      <td>com.roblox.client</td>\n",
       "      <td>https://play-lh.googleusercontent.com/WNWZaxi9...</td>\n",
       "      <td>Adventure</td>\n",
       "      <td>4.436438</td>\n",
       "      <td>500000000.0</td>\n",
       "      <td>roblox ultimate virtual universe let create sh...</td>\n",
       "    </tr>\n",
       "  </tbody>\n",
       "</table>\n",
       "</div>"
      ],
      "text/plain": [
       "                            name                       package_name  \\\n",
       "0  Call of Duty: Mobile Season 5  com.activision.callofduty.shooter   \n",
       "1                         Roblox                  com.roblox.client   \n",
       "\n",
       "                                            icon_url      genre    rating  \\\n",
       "0  https://play-lh.googleusercontent.com/zX7jmUbn...     Action  4.306470   \n",
       "1  https://play-lh.googleusercontent.com/WNWZaxi9...  Adventure  4.436438   \n",
       "\n",
       "       ratings                                               desc  \n",
       "0  100000000.0  's call duty® like never seen famous fps multi...  \n",
       "1  500000000.0  roblox ultimate virtual universe let create sh...  "
      ]
     },
     "execution_count": 47,
     "metadata": {},
     "output_type": "execute_result"
    }
   ],
   "source": [
    "df.head(2)"
   ]
  },
  {
   "cell_type": "markdown",
   "metadata": {},
   "source": [
    "### Note: Vectorization is not performed here since, LLM Embeddings will be done later, doing it here at this stage would be unnecessary"
   ]
  },
  {
   "cell_type": "markdown",
   "metadata": {},
   "source": [
    "### Since our dataset is pre-processed and ready to be used in the application we create a csv file for it"
   ]
  },
  {
   "cell_type": "code",
   "execution_count": 48,
   "metadata": {},
   "outputs": [
    {
     "name": "stdout",
     "output_type": "stream",
     "text": [
      "Csv file is ready!!!\n"
     ]
    }
   ],
   "source": [
    "df.to_csv('game_data.csv', index=False)\n",
    "print('Csv file is ready!!!')"
   ]
  },
  {
   "cell_type": "code",
   "execution_count": 49,
   "metadata": {},
   "outputs": [
    {
     "data": {
      "text/html": [
       "<div>\n",
       "<style scoped>\n",
       "    .dataframe tbody tr th:only-of-type {\n",
       "        vertical-align: middle;\n",
       "    }\n",
       "\n",
       "    .dataframe tbody tr th {\n",
       "        vertical-align: top;\n",
       "    }\n",
       "\n",
       "    .dataframe thead th {\n",
       "        text-align: right;\n",
       "    }\n",
       "</style>\n",
       "<table border=\"1\" class=\"dataframe\">\n",
       "  <thead>\n",
       "    <tr style=\"text-align: right;\">\n",
       "      <th></th>\n",
       "      <th>name</th>\n",
       "      <th>package_name</th>\n",
       "      <th>icon_url</th>\n",
       "      <th>genre</th>\n",
       "      <th>rating</th>\n",
       "      <th>ratings</th>\n",
       "      <th>desc</th>\n",
       "    </tr>\n",
       "  </thead>\n",
       "  <tbody>\n",
       "    <tr>\n",
       "      <th>0</th>\n",
       "      <td>Call of Duty: Mobile Season 5</td>\n",
       "      <td>com.activision.callofduty.shooter</td>\n",
       "      <td>https://play-lh.googleusercontent.com/zX7jmUbn...</td>\n",
       "      <td>Action</td>\n",
       "      <td>4.306470</td>\n",
       "      <td>1.000000e+08</td>\n",
       "      <td>'s call duty® like never seen famous fps multi...</td>\n",
       "    </tr>\n",
       "    <tr>\n",
       "      <th>1</th>\n",
       "      <td>Roblox</td>\n",
       "      <td>com.roblox.client</td>\n",
       "      <td>https://play-lh.googleusercontent.com/WNWZaxi9...</td>\n",
       "      <td>Adventure</td>\n",
       "      <td>4.436438</td>\n",
       "      <td>5.000000e+08</td>\n",
       "      <td>roblox ultimate virtual universe let create sh...</td>\n",
       "    </tr>\n",
       "    <tr>\n",
       "      <th>2</th>\n",
       "      <td>Free Fire</td>\n",
       "      <td>com.dts.freefireth</td>\n",
       "      <td>https://play-lh.googleusercontent.com/pGTbyodN...</td>\n",
       "      <td>Action</td>\n",
       "      <td>4.142490</td>\n",
       "      <td>1.000000e+09</td>\n",
       "      <td>mechadrake incoming fierce mechadrake invaded ...</td>\n",
       "    </tr>\n",
       "    <tr>\n",
       "      <th>3</th>\n",
       "      <td>Clash of Clans</td>\n",
       "      <td>com.supercell.clashofclans</td>\n",
       "      <td>https://play-lh.googleusercontent.com/LByrur1m...</td>\n",
       "      <td>Strategy</td>\n",
       "      <td>4.530824</td>\n",
       "      <td>5.000000e+08</td>\n",
       "      <td>join million player worldwide build village ra...</td>\n",
       "    </tr>\n",
       "    <tr>\n",
       "      <th>4</th>\n",
       "      <td>Free Fire MAX</td>\n",
       "      <td>com.dts.freefiremax</td>\n",
       "      <td>https://play-lh.googleusercontent.com/T8RuSQDF...</td>\n",
       "      <td>Action</td>\n",
       "      <td>4.176982</td>\n",
       "      <td>1.000000e+08</td>\n",
       "      <td>mechadrake incoming fierce mechadrake invaded ...</td>\n",
       "    </tr>\n",
       "  </tbody>\n",
       "</table>\n",
       "</div>"
      ],
      "text/plain": [
       "                            name                       package_name  \\\n",
       "0  Call of Duty: Mobile Season 5  com.activision.callofduty.shooter   \n",
       "1                         Roblox                  com.roblox.client   \n",
       "2                      Free Fire                 com.dts.freefireth   \n",
       "3                 Clash of Clans         com.supercell.clashofclans   \n",
       "4                  Free Fire MAX                com.dts.freefiremax   \n",
       "\n",
       "                                            icon_url      genre    rating  \\\n",
       "0  https://play-lh.googleusercontent.com/zX7jmUbn...     Action  4.306470   \n",
       "1  https://play-lh.googleusercontent.com/WNWZaxi9...  Adventure  4.436438   \n",
       "2  https://play-lh.googleusercontent.com/pGTbyodN...     Action  4.142490   \n",
       "3  https://play-lh.googleusercontent.com/LByrur1m...   Strategy  4.530824   \n",
       "4  https://play-lh.googleusercontent.com/T8RuSQDF...     Action  4.176982   \n",
       "\n",
       "        ratings                                               desc  \n",
       "0  1.000000e+08  's call duty® like never seen famous fps multi...  \n",
       "1  5.000000e+08  roblox ultimate virtual universe let create sh...  \n",
       "2  1.000000e+09  mechadrake incoming fierce mechadrake invaded ...  \n",
       "3  5.000000e+08  join million player worldwide build village ra...  \n",
       "4  1.000000e+08  mechadrake incoming fierce mechadrake invaded ...  "
      ]
     },
     "execution_count": 49,
     "metadata": {},
     "output_type": "execute_result"
    }
   ],
   "source": [
    "mock = pd.read_csv('game_data.csv')\n",
    "mock.head(5)"
   ]
  }
 ],
 "metadata": {
  "kernelspec": {
   "display_name": "venv",
   "language": "python",
   "name": "python3"
  },
  "language_info": {
   "codemirror_mode": {
    "name": "ipython",
    "version": 3
   },
   "file_extension": ".py",
   "mimetype": "text/x-python",
   "name": "python",
   "nbconvert_exporter": "python",
   "pygments_lexer": "ipython3",
   "version": "3.11.5"
  }
 },
 "nbformat": 4,
 "nbformat_minor": 2
}
